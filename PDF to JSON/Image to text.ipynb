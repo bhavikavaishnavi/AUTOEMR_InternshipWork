{
 "cells": [
  {
   "cell_type": "code",
   "execution_count": 1,
   "id": "7964b176",
   "metadata": {},
   "outputs": [
    {
     "name": "stdout",
     "output_type": "stream",
     "text": [
      "Requirement already satisfied: pytesseract in c:\\python39\\lib\\site-packages (0.3.9)\n",
      "Requirement already satisfied: packaging>=21.3 in c:\\python39\\lib\\site-packages (from pytesseract) (21.3)\n",
      "Requirement already satisfied: Pillow>=8.0.0 in c:\\python39\\lib\\site-packages (from pytesseract) (8.3.1)\n",
      "Requirement already satisfied: pyparsing!=3.0.5,>=2.0.2 in c:\\python39\\lib\\site-packages (from packaging>=21.3->pytesseract) (2.4.7)\n",
      "Requirement already satisfied: Pillow in c:\\python39\\lib\\site-packages (8.3.1)\n"
     ]
    }
   ],
   "source": [
    "!pip install pytesseract\n",
    "!pip install Pillow"
   ]
  },
  {
   "cell_type": "code",
   "execution_count": 2,
   "id": "e476adf8",
   "metadata": {},
   "outputs": [],
   "source": [
    "import pytesseract as pt\n",
    "from PIL import Image"
   ]
  },
  {
   "cell_type": "code",
   "execution_count": 3,
   "id": "64dacec5",
   "metadata": {},
   "outputs": [],
   "source": [
    "pt.pytesseract.tesseract_cmd = r'C:\\Program Files\\Tesseract-OCR\\tesseract.exe'"
   ]
  },
  {
   "cell_type": "code",
   "execution_count": 4,
   "id": "bbe2fdb8",
   "metadata": {},
   "outputs": [
    {
     "name": "stdout",
     "output_type": "stream",
     "text": [
      "NEEL PATHOLOGY LABORATORY\n",
      "\n",
      ": Consultant Pathologist\n",
      "\n",
      "Regd No. : CL/4653/APR-2017 Dr. Sunil Kumar Sharma\n",
      "Rajnigandha Complex Near PNB & HDFC Bank ATM ml ology (MBBS, DCP) Reg. No. : MP-9242\n",
      "in Front of Petrol Pump, Gole Ka Mandir, Gwalior LAB oratory ’ Consultant Pathologist Birla Hospital\n",
      "Mob. : 9827386795, 9977708173 Ex. Consultant BSF Composit Hospital\n",
      "Time : 8.00 A.M. to 10.00 P.M. Member of Patho India & IMA Gwalior\n",
      "\n",
      "PATIENT NAME > Ku. Vaishnavi REGN. DATE *-23-Oct-2021 05.56 PM\n",
      "\n",
      "AGE/SEX : 12 YEARS/ FEMALE REPORT DATE : 23-Oct-2021 05.58 PM\n",
      "\n",
      "REFERED BY : DR.V.SHARMA MBBS SAMPLE COLLECTED : Neel Pathology\n",
      "\n",
      "REGN.NO. * TELS Laborator\n",
      "\n",
      "HAEMATOLOGY\n",
      "\n",
      "teeter ene ag\n",
      "TEST NAME VALUE UNIT REFERENCE RANGE\n",
      "NYE CUNT) CUREFERENCE RANGEL\n",
      "\n",
      "COMPLETE BLOOD COUNT\n",
      "\n",
      "RBC PARAMETERS\n",
      "\n",
      "HAEMOGLOBIN 11.7 gm/dl 11 To 16\n",
      "TOTAL RBC COUNT 4.11 mill/cumm 4.5-5.5\n",
      "\n",
      "HCT [35.0] % 36-46\n",
      "\n",
      "MCV 85 fl 83.0-101.0\n",
      "MCH 28 pg 27.0-32.0\n",
      "MCHC 33 g/dl 31.5-34.5\n",
      "WBC PARAMETERS\n",
      "\n",
      "TOTAL WBC COUNT 5700 /cumm 4000-11000\n",
      "NEUTROPHILS 48 % 40-70\n",
      "LYMPHOCYTES [45] % 20-40\n",
      "MONOCYTES 03 % 2to8\n",
      "EOSINOPHILS 04 % 0 to 6\n",
      "BASOPHILS 00 % Otol\n",
      "PLATELET PARAMETERS\n",
      "\n",
      "PLATELET COUNT 2.41 Lakh/cumm 1.4-4.0\n",
      "RBC PARAMETERS\n",
      "\n",
      "RDW-CV 13.0 %, 11.6 to 14.0\n",
      "MENTZER INDEX ( FOR CHILD ) [21] < 13 Suggests Thalassemia\n",
      "\n",
      "> 13 Suggests Iron Deficiency\n",
      "END OF REPORT\n",
      "\n",
      "Dy’ S.K. Sharma\n",
      "Page 1 of 1 BBS, DG (Path.)\n",
      "\n",
      "Sample collection facility from Nursing Home and Patient's home available\n",
      "\n",
      "\n"
     ]
    }
   ],
   "source": [
    "img_object = Image.open(r\"D:\\Users\\Bhavika Vaishnavi\\Desktop\\Project OCR GUI\\page_1.jpg\")\n",
    "img_text = pt.image_to_string(img_object)\n",
    "print(img_text)"
   ]
  },
  {
   "cell_type": "code",
   "execution_count": 5,
   "id": "35b34ec7",
   "metadata": {},
   "outputs": [],
   "source": [
    "dict = {}\n",
    "dict[0] = img_text"
   ]
  },
  {
   "cell_type": "code",
   "execution_count": 6,
   "id": "79d02692",
   "metadata": {},
   "outputs": [
    {
     "data": {
      "text/plain": [
       "{0: \"NEEL PATHOLOGY LABORATORY\\n\\n: Consultant Pathologist\\n\\nRegd No. : CL/4653/APR-2017 Dr. Sunil Kumar Sharma\\nRajnigandha Complex Near PNB & HDFC Bank ATM ml ology (MBBS, DCP) Reg. No. : MP-9242\\nin Front of Petrol Pump, Gole Ka Mandir, Gwalior LAB oratory ’ Consultant Pathologist Birla Hospital\\nMob. : 9827386795, 9977708173 Ex. Consultant BSF Composit Hospital\\nTime : 8.00 A.M. to 10.00 P.M. Member of Patho India & IMA Gwalior\\n\\nPATIENT NAME > Ku. Vaishnavi REGN. DATE *-23-Oct-2021 05.56 PM\\n\\nAGE/SEX : 12 YEARS/ FEMALE REPORT DATE : 23-Oct-2021 05.58 PM\\n\\nREFERED BY : DR.V.SHARMA MBBS SAMPLE COLLECTED : Neel Pathology\\n\\nREGN.NO. * TELS Laborator\\n\\nHAEMATOLOGY\\n\\nteeter ene ag\\nTEST NAME VALUE UNIT REFERENCE RANGE\\nNYE CUNT) CUREFERENCE RANGEL\\n\\nCOMPLETE BLOOD COUNT\\n\\nRBC PARAMETERS\\n\\nHAEMOGLOBIN 11.7 gm/dl 11 To 16\\nTOTAL RBC COUNT 4.11 mill/cumm 4.5-5.5\\n\\nHCT [35.0] % 36-46\\n\\nMCV 85 fl 83.0-101.0\\nMCH 28 pg 27.0-32.0\\nMCHC 33 g/dl 31.5-34.5\\nWBC PARAMETERS\\n\\nTOTAL WBC COUNT 5700 /cumm 4000-11000\\nNEUTROPHILS 48 % 40-70\\nLYMPHOCYTES [45] % 20-40\\nMONOCYTES 03 % 2to8\\nEOSINOPHILS 04 % 0 to 6\\nBASOPHILS 00 % Otol\\nPLATELET PARAMETERS\\n\\nPLATELET COUNT 2.41 Lakh/cumm 1.4-4.0\\nRBC PARAMETERS\\n\\nRDW-CV 13.0 %, 11.6 to 14.0\\nMENTZER INDEX ( FOR CHILD ) [21] < 13 Suggests Thalassemia\\n\\n> 13 Suggests Iron Deficiency\\nEND OF REPORT\\n\\nDy’ S.K. Sharma\\nPage 1 of 1 BBS, DG (Path.)\\n\\nSample collection facility from Nursing Home and Patient's home available\\n\\n\"}"
      ]
     },
     "execution_count": 6,
     "metadata": {},
     "output_type": "execute_result"
    }
   ],
   "source": [
    "dict"
   ]
  },
  {
   "cell_type": "code",
   "execution_count": null,
   "id": "94d8fd2a",
   "metadata": {},
   "outputs": [],
   "source": []
  }
 ],
 "metadata": {
  "kernelspec": {
   "display_name": "Python 3 (ipykernel)",
   "language": "python",
   "name": "python3"
  },
  "language_info": {
   "codemirror_mode": {
    "name": "ipython",
    "version": 3
   },
   "file_extension": ".py",
   "mimetype": "text/x-python",
   "name": "python",
   "nbconvert_exporter": "python",
   "pygments_lexer": "ipython3",
   "version": "3.9.6"
  }
 },
 "nbformat": 4,
 "nbformat_minor": 5
}
